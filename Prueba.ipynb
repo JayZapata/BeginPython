{
 "cells": [
  {
   "cell_type": "code",
   "execution_count": 2,
   "metadata": {},
   "outputs": [
    {
     "name": "stdout",
     "output_type": "stream",
     "text": [
      "30\n"
     ]
    }
   ],
   "source": [
    "a=5\n",
    "b=6\n",
    "print a*b"
   ]
  },
  {
   "cell_type": "code",
   "execution_count": 13,
   "metadata": {},
   "outputs": [
    {
     "name": "stdout",
     "output_type": "stream",
     "text": [
      "[[0. 0. 0.]]\n",
      "[[1. 1. 1. 1.]]\n",
      "('c: ', array([1, 3, 4, 5, 7]))\n",
      "('d: ', array([[ 1,  2,  3],\n",
      "       [ 4,  5,  6],\n",
      "       [ 7,  8,  9],\n",
      "       [15, 45,  0]]))\n"
     ]
    }
   ],
   "source": [
    "#Esto en un comentario unico\n",
    "'''\n",
    "Esto es un\n",
    "comentario\n",
    "multiple\n",
    "'''\n",
    "#Existen multiples formas de importar paquetes o modulos de Python. A continuacion algunos ejemplos.\n",
    "\n",
    "import numpy\n",
    "a = numpy.zeros([1,3])\n",
    "print(a)\n",
    "\n",
    "import numpy as np\n",
    "b = np.ones([1,4])\n",
    "print(b)\n",
    "\n",
    "from numpy import array\n",
    "c = array([1,3,4,5,7])\n",
    "print(\"c: \",c)\n",
    "\n",
    "d = np.array([[1,2,3],[4,5,6],[7,8,9],[15,45,0]])\n",
    "print(\"d: \",d)\n",
    "\n"
   ]
  },
  {
   "cell_type": "code",
   "execution_count": 30,
   "metadata": {},
   "outputs": [
    {
     "name": "stdout",
     "output_type": "stream",
     "text": [
      "hola mundo, hola mundo, hola mundo, hola mundo, hola mundo, \n",
      "<type 'str'>\n",
      "<type 'list'>\n",
      "['h', 'o', 'l', 'a']\n",
      "[0, 1, 2, 3, 4, 5, 6, 7, 8, 9]\n"
     ]
    }
   ],
   "source": [
    "#Python tiene tipado dinamico\n",
    "a = 5\n",
    "b = '1.4567'\n",
    "c = \"hola mundo, \"\n",
    "d = ['h', 'o', 'l', 'a']\n",
    "\n",
    "print(a * c)\n",
    "print(type(b))\n",
    "print(type(d))\n",
    "print (d)\n",
    "a = range(0, 10)\n",
    "print a"
   ]
  },
  {
   "cell_type": "code",
   "execution_count": 44,
   "metadata": {},
   "outputs": [
    {
     "name": "stdout",
     "output_type": "stream",
     "text": [
      "[0, 1, 2]\n",
      "[3, 4, 5, 6, 7, 8, 9]\n",
      "('par: ', 0)\n",
      "('impar: ', 1)\n",
      "('par: ', 2)\n",
      "('impar: ', 3)\n",
      "('par: ', 4)\n",
      "('impar: ', 5)\n",
      "('par: ', 6)\n",
      "('impar: ', 7)\n",
      "('par: ', 8)\n",
      "('impar: ', 9)\n",
      "('iteracion: ', 1)\n",
      "('iteracion: ', 2)\n",
      "('iteracion: ', 3)\n",
      "('iteracion: ', 4)\n",
      "('iteracion: ', 5)\n",
      "('iteracion: ', 6)\n",
      "('iteracion: ', 7)\n",
      "('iteracion: ', 8)\n",
      "('iteracion: ', 9)\n",
      "('iteracion: ', 10)\n",
      "('cantidad de pares: ', 5)\n",
      "('cantidad de impares: ', 5)\n"
     ]
    }
   ],
   "source": [
    "#Los loops en python son muy sencillo\n",
    "rango = range(3)\n",
    "print(rango)\n",
    "\n",
    "#rango con intervalo\n",
    "print(range(3,10))\n",
    "\n",
    "#Note la indentacion en el FOR. Una tabulacion, indica que la linea siguiente se encuentra contenido dentro de la\n",
    "#linea anterior.\n",
    "\n",
    "cuentap=0\n",
    "cuentai =0\n",
    "for i in range(0, 10):\n",
    "    if(i%2 == 0):\n",
    "        print(\"par: \", i)\n",
    "        cuentap=cuentap+1\n",
    "    else:\n",
    "        print(\"impar: \", i)\n",
    "        cuentai=cuentai+1\n",
    "\n",
    "#El while es similar a cualquier lenguaje de programacion\n",
    "c = 1\n",
    "while(c <= 10):\n",
    "    print(\"iteracion: \", c)\n",
    "    c += 1\n",
    "    \n",
    "print ('cantidad de pares: ',cuentap)\n",
    "print ('cantidad de impares: ',cuentai)"
   ]
  },
  {
   "cell_type": "code",
   "execution_count": 45,
   "metadata": {},
   "outputs": [
    {
     "data": {
      "text/plain": [
       "['hola', 'mundo']"
      ]
     },
     "execution_count": 45,
     "metadata": {},
     "output_type": "execute_result"
    }
   ],
   "source": [
    "\"hola mundo\".split()"
   ]
  },
  {
   "cell_type": "code",
   "execution_count": 46,
   "metadata": {},
   "outputs": [
    {
     "name": "stdout",
     "output_type": "stream",
     "text": [
      "('cuantas palabras tiene el parrafo: ', 16)\n",
      "('las palabras son: ', ['That', 'is', 'not', 'dead', 'which', 'can', 'eternal', 'lie,', 'and', 'with', 'strange', 'aeons', 'even', 'death', 'may', 'die'])\n",
      "('cuantas letras a contiene el parrafo: ', 9)\n",
      "('cual es la segunda palabra del parrafo: ', 'is')\n"
     ]
    }
   ],
   "source": [
    "#En python todas la variables son objetos, por lo que tienen metodos implementados\n",
    "\n",
    "parrafo = \"That is not dead which can eternal lie, and with strange aeons even death may die\"\n",
    "palabras = parrafo.split()\n",
    "print(\"cuantas palabras tiene el parrafo: \", len(palabras))\n",
    "print(\"las palabras son: \", palabras)\n",
    "print(\"cuantas letras a contiene el parrafo: \", parrafo.count('a'))\n",
    "print(\"cual es la segunda palabra del parrafo: \", palabras[1])"
   ]
  },
  {
   "cell_type": "code",
   "execution_count": 47,
   "metadata": {},
   "outputs": [
    {
     "name": "stdout",
     "output_type": "stream",
     "text": [
      "[1, 25, 9, 16, 49]\n"
     ]
    }
   ],
   "source": [
    "l = [1,5,3,4,7]\n",
    "lista_squared = [x*x for x in l]\n",
    "print lista_squared\n",
    "\n"
   ]
  },
  {
   "cell_type": "code",
   "execution_count": 48,
   "metadata": {},
   "outputs": [
    {
     "name": "stdout",
     "output_type": "stream",
     "text": [
      "[1, 3, 2.8, 'hola']\n",
      "['34', 54]\n",
      "[1, 3, 2.8, 'hola', '34', 54]\n",
      "hola\n",
      "('lista ordenada: ', [1, 2.8, 3, 'hola'])\n",
      "[1, 25, 9, 16, 49]\n",
      "((2, 3), (2, 2), (3, 4, 2))\n",
      "(2, 3)\n",
      "set([1, 2, 3, 4, 10, 11, 24])\n",
      "set([1, 2, 3, 4])\n",
      "['lobo', 'gato', 'perro', 'leon']\n",
      "['canino', 'felino', 'canino', 'felino']\n",
      "canino\n"
     ]
    }
   ],
   "source": [
    "#ESTRUCTURAS DE DATOS\n",
    "##===================================\n",
    "#Listas\n",
    "##===================================\n",
    "a = [1,3,2.8,\"hola\"]\n",
    "print(a)\n",
    "b = [\"34\", 54]\n",
    "print(b)\n",
    "print(a+b)\n",
    "print((a+b)[3])\n",
    "a.sort()\n",
    "print(\"lista ordenada: \", a)\n",
    "\n",
    "#Podemos generar una lista a partir de otra lista. Estos se conoce como List Comprehensions\n",
    "l = [1,5,3,4,7]\n",
    "lista_squared = [x*x for x in l]\n",
    "print(lista_squared)\n",
    "\n",
    "##===================================\n",
    "#Tuplas\n",
    "##===================================\n",
    "tupla = ((2,3), (2,2), (3,4,2))\n",
    "print(tupla)\n",
    "print(tupla[0])\n",
    "\n",
    "##===================================\n",
    "#Set (conjuntos)\n",
    "##===================================\n",
    "lista = [1,2,3,4,1,1,3,3,10,11,24,24]\n",
    "c1 = set(lista)\n",
    "print(c1)\n",
    "#Los conjuntos permiten operaciones de conjuntos (interseccion, union, etc.)\n",
    "lista2 = [1,2,3,4,4,4,4,15,16,17,89]\n",
    "c2 = set(lista2)\n",
    "\n",
    "print(c1.intersection(c2))\n",
    "\n",
    "##===================================\n",
    "#Diccionarios: par llave-valor\n",
    "##===================================\n",
    "d = {'perro':'canino', 'lobo':'canino', 'gato':'felino', 'leon':'felino'}\n",
    "print(d.keys())\n",
    "print(d.values())\n",
    "print(d['lobo'])"
   ]
  },
  {
   "cell_type": "code",
   "execution_count": 58,
   "metadata": {},
   "outputs": [
    {
     "name": "stdout",
     "output_type": "stream",
     "text": [
      "7\n"
     ]
    }
   ],
   "source": [
    "##Funciones\n",
    "def mi_funcion(a,b,c):\n",
    "    return a*b+c\n",
    "\n",
    "print(mi_funcion(1,2,5))\n",
    "\n"
   ]
  },
  {
   "cell_type": "code",
   "execution_count": null,
   "metadata": {},
   "outputs": [],
   "source": []
  }
 ],
 "metadata": {
  "kernelspec": {
   "display_name": "Python 2",
   "language": "python",
   "name": "python2"
  },
  "language_info": {
   "codemirror_mode": {
    "name": "ipython",
    "version": 2
   },
   "file_extension": ".py",
   "mimetype": "text/x-python",
   "name": "python",
   "nbconvert_exporter": "python",
   "pygments_lexer": "ipython2",
   "version": "2.7.15"
  }
 },
 "nbformat": 4,
 "nbformat_minor": 2
}
